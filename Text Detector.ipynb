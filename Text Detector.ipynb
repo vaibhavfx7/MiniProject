{
 "cells": [
  {
   "cell_type": "code",
   "execution_count": 63,
   "metadata": {},
   "outputs": [],
   "source": [
    "from imutils.object_detection import non_max_suppression\n",
    "import numpy as np\n",
    "import argparse\n",
    "import time\n",
    "import cv2"
   ]
  },
  {
   "cell_type": "code",
   "execution_count": 64,
   "metadata": {},
   "outputs": [],
   "source": [
    "image = cv2.imread(\"img792.jpg\")\n",
    "orig = image.copy()\n",
    "(H, W) = image.shape[:2] #Height and width of the image are stored in H and W"
   ]
  },
  {
   "cell_type": "code",
   "execution_count": 65,
   "metadata": {},
   "outputs": [
    {
     "name": "stdout",
     "output_type": "stream",
     "text": [
      "540 720\n"
     ]
    }
   ],
   "source": [
    "print(H, W)"
   ]
  },
  {
   "cell_type": "code",
   "execution_count": 66,
   "metadata": {},
   "outputs": [
    {
     "name": "stdout",
     "output_type": "stream",
     "text": [
      "320 320\n"
     ]
    }
   ],
   "source": [
    "#Set new width and height\n",
    "(newW, newH) = (320, 320)\n",
    "print(newW, newH)"
   ]
  },
  {
   "cell_type": "code",
   "execution_count": 67,
   "metadata": {},
   "outputs": [],
   "source": [
    "#Determine the ratio for both the width and height\n",
    "rW = W/newW\n",
    "rH = H/newH"
   ]
  },
  {
   "cell_type": "code",
   "execution_count": 68,
   "metadata": {},
   "outputs": [
    {
     "name": "stdout",
     "output_type": "stream",
     "text": [
      "320 320\n"
     ]
    }
   ],
   "source": [
    "#Resize the image (ignoring aspect ratio) and grab the new dimensions\n",
    "image = cv2.resize(image, (newW, newH))\n",
    "(H, W) = image.shape[:2]\n",
    "print(H, W)"
   ]
  },
  {
   "cell_type": "code",
   "execution_count": 69,
   "metadata": {},
   "outputs": [],
   "source": [
    "# We need to extract the output feature maps of two layers:\n",
    "# The first is the output probabilities\n",
    "# The second can be used to derive the bounding box coordinates of text\n",
    "\n",
    "layerNames = [\"feature_fusion/Conv_7/Sigmoid\", \"feature_fusion/concat_3\"]"
   ]
  },
  {
   "cell_type": "markdown",
   "metadata": {},
   "source": [
    "Loading the EAST text detector"
   ]
  },
  {
   "cell_type": "code",
   "execution_count": 70,
   "metadata": {},
   "outputs": [
    {
     "name": "stdout",
     "output_type": "stream",
     "text": [
      "[INFO] loading EAST text detector...\n"
     ]
    }
   ],
   "source": [
    "print(\"[INFO] loading EAST text detector...\")\n",
    "net = cv2.dnn.readNet(\"frozen_east_text_detection.pb\") #Load the neural network into memory"
   ]
  },
  {
   "cell_type": "code",
   "execution_count": 71,
   "metadata": {},
   "outputs": [],
   "source": [
    "# Converting the image to a blob and then perform a forward pass of\n",
    "# the model to obtain the two output layer sets\n",
    "\n",
    "blob = cv2.dnn.blobFromImage(image, 1.0, (W, H), (123.68, 116.78, 103.94), swapRB=True, crop=False)\n",
    "start = time.time()\n",
    "net.setInput(blob) #We simply set blob as input to predict text\n",
    "(scores, geometry) = net.forward(layerNames) #Returns two feature maps\n",
    "\n",
    "#The \"geometry\" map is used to derive the bounding box coordinates of the text in the image\n",
    "#The \"scores\" map contains the probability of a given region containing text\n",
    "\n",
    "end = time.time()"
   ]
  },
  {
   "cell_type": "code",
   "execution_count": 72,
   "metadata": {},
   "outputs": [
    {
     "name": "stdout",
     "output_type": "stream",
     "text": [
      "[INFO] text detection took 0.518517 seconds\n"
     ]
    }
   ],
   "source": [
    "print(\"[INFO] text detection took {:.6f} seconds\".format(end - start))"
   ]
  },
  {
   "cell_type": "code",
   "execution_count": 73,
   "metadata": {},
   "outputs": [
    {
     "data": {
      "text/plain": [
       "(1, 1, 80, 80)"
      ]
     },
     "execution_count": 73,
     "metadata": {},
     "output_type": "execute_result"
    }
   ],
   "source": [
    "scores.shape # 80, 80 is the number of rows and columns respectively"
   ]
  },
  {
   "cell_type": "code",
   "execution_count": 74,
   "metadata": {},
   "outputs": [],
   "source": [
    "(numRows, numCols) = scores.shape[2:4]\n",
    "rects = []    # Stores the bounding box (x,y) coordinates for text regions\n",
    "confidences = []    # Stores the probability associated with each of the bounding boxes in \"rects\""
   ]
  },
  {
   "cell_type": "markdown",
   "metadata": {},
   "source": [
    "Loop over the number of rows and columns"
   ]
  },
  {
   "cell_type": "code",
   "execution_count": 75,
   "metadata": {},
   "outputs": [],
   "source": [
    "for y in range(0, numRows):  #Loop over the number of rows ('y' denotes the current row)\n",
    "    scoresData = scores[0, 0, y]   #Extract the scores(probabilities)\n",
    "    xData0 = geometry[0, 0, y]     #Extract the geometrical data\n",
    "    xData1 = geometry[0, 1, y]     #Extract the geometrical data\n",
    "    xData2 = geometry[0, 2, y]     #Extract the geometrical data\n",
    "    xData3 = geometry[0, 3, y]     #Extract the geometrical data\n",
    "    anglesData = geometry[0, 4, y] #Extract the geometrical data\n",
    "    \n",
    "    #Loop over each column index for current row\n",
    "    for x in range(0, numCols):\n",
    "        # If our score doesn't have sufficient probability, ignore it.\n",
    "        if scoresData[x] < 0.5:\n",
    "            continue\n",
    "        \n",
    "        # EAST text detector reduces the volume size as the image passes theough the network\n",
    "        # Thus, the volume size will be 4x smaller than the input image\n",
    "        # Hence, compute the offset factor by multiplying the coordinates by 4\n",
    "        (offsetX, offsetY) = (x*4.0, y*4.0)\n",
    "        \n",
    "        # Extract the rotation angle for the prediction and then compute the sin and cosine\n",
    "        angle = anglesData[x]\n",
    "        cos = np.cos(angle)\n",
    "        sin = np.sin(angle)\n",
    " \n",
    "        # Use the geometrical data to derive the width and height of the bounding box\n",
    "        h = xData0[x] + xData2[x]  # height\n",
    "        w = xData1[x] + xData3[x]  # width\n",
    "        \n",
    "        # Compute both the starting and ending (x, y) coordinates for the bounding box\n",
    "        endX = int(offsetX + (cos * xData1[x]) + (sin * xData2[x]))\n",
    "        endY = int(offsetY - (sin * xData1[x]) + (cos * xData2[x]))\n",
    "        startX = int(endX - w)\n",
    "        startY = int(endY - h)\n",
    "        \n",
    "        # Add the bounding box coordinates and probability score to our respective lists\n",
    "        rects.append((startX, startY, endX, endY))\n",
    "        confidences.append(scoresData[x])"
   ]
  },
  {
   "cell_type": "markdown",
   "metadata": {},
   "source": [
    "Applying \"non-maxima suppression\" to the bounding boxes to suppress weak, overlapping, bounding boxes"
   ]
  },
  {
   "cell_type": "code",
   "execution_count": 76,
   "metadata": {},
   "outputs": [],
   "source": [
    "boxes = non_max_suppression(np.array(rects), probs = confidences)\n",
    "\n",
    "cv2.imshow(\"Original image\", orig)\n",
    "#Now, Looping over the bounding boxes\n",
    "for (startX, startY, endX, endY) in boxes:\n",
    "    #Scaling the coordinates based on the respective ratios\n",
    "    startX = int(startX * rW) \n",
    "    startY = int(startY * rH)\n",
    "    endX = int(endX * rW)\n",
    "    endY = int(endY * rH)\n",
    "    \n",
    "    #Drawing the bounding box on the image\n",
    "    cv2.rectangle(orig, (startX, startY), (endX, endY), (0, 0, 255), 2)"
   ]
  },
  {
   "cell_type": "code",
   "execution_count": 77,
   "metadata": {},
   "outputs": [],
   "source": [
    "#cv2.imshow(\"Text Detection\", orig) #Showing the output image with text detected\n",
    "#cv2.waitKey(0)\n",
    "#cv2.destroyAllWindows()"
   ]
  },
  {
   "cell_type": "code",
   "execution_count": 78,
   "metadata": {},
   "outputs": [],
   "source": [
    "cv2.imshow(\"Text Detection\", orig) #Showing the output image with text detected\n",
    "cv2.waitKey(0)\n",
    "cv2.destroyAllWindows()"
   ]
  },
  {
   "cell_type": "code",
   "execution_count": null,
   "metadata": {},
   "outputs": [],
   "source": [
    "\n"
   ]
  }
 ],
 "metadata": {
  "kernelspec": {
   "display_name": "Python 3",
   "language": "python",
   "name": "python3"
  },
  "language_info": {
   "codemirror_mode": {
    "name": "ipython",
    "version": 3
   },
   "file_extension": ".py",
   "mimetype": "text/x-python",
   "name": "python",
   "nbconvert_exporter": "python",
   "pygments_lexer": "ipython3",
   "version": "3.6.5"
  }
 },
 "nbformat": 4,
 "nbformat_minor": 2
}
